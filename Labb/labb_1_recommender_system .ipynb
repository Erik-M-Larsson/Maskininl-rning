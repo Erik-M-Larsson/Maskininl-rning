{
 "cells": [
  {
   "cell_type": "markdown",
   "metadata": {},
   "source": [
    "# Laboration maskininlärning AI21\n"
   ]
  },
  {
   "cell_type": "code",
   "execution_count": 2,
   "metadata": {},
   "outputs": [],
   "source": [
    "import pandas as pd\n",
    "from scipy.sparse import csr_matrix\n",
    "from sklearn.neighbors import NearestNeighbors\n",
    "from fuzzywuzzy import process\n",
    "import matplotlib.pyplot as plt\n",
    "import numpy as np\n"
   ]
  },
  {
   "cell_type": "markdown",
   "metadata": {},
   "source": [
    "## 1. Recommender system\n",
    "### 1.1 - Movielens full - EDA"
   ]
  },
  {
   "cell_type": "code",
   "execution_count": 3,
   "metadata": {},
   "outputs": [],
   "source": [
    "# Läs in dataset\n",
    "movies = \"Data/ml-latest/movies.csv\"\n",
    "ratings = \"Data/ml-latest/ratings.csv\"\n",
    "\n",
    "df_movies = pd.read_csv(movies, usecols=[\"movieId\", \"title\"], dtype={\"movieId\":\"int32\", \"title\":\"str\"})\n",
    "\n",
    "df_ratings = pd.read_csv(ratings, usecols=[\"userId\", \"movieId\", \"rating\"], dtype={\"userId\":\"int32\", \"movieId\":\"int32\", \"rating\":\"float32\"})"
   ]
  },
  {
   "cell_type": "markdown",
   "metadata": {},
   "source": [
    "#### b) Vilka är de 10 filmerna med flest ratings?\n"
   ]
  },
  {
   "cell_type": "code",
   "execution_count": 4,
   "metadata": {},
   "outputs": [
    {
     "data": {
      "text/html": [
       "<div>\n",
       "<style scoped>\n",
       "    .dataframe tbody tr th:only-of-type {\n",
       "        vertical-align: middle;\n",
       "    }\n",
       "\n",
       "    .dataframe tbody tr th {\n",
       "        vertical-align: top;\n",
       "    }\n",
       "\n",
       "    .dataframe thead th {\n",
       "        text-align: right;\n",
       "    }\n",
       "</style>\n",
       "<table border=\"1\" class=\"dataframe\">\n",
       "  <thead>\n",
       "    <tr style=\"text-align: right;\">\n",
       "      <th></th>\n",
       "      <th>movieId</th>\n",
       "      <th>n_count</th>\n",
       "    </tr>\n",
       "  </thead>\n",
       "  <tbody>\n",
       "    <tr>\n",
       "      <th>0</th>\n",
       "      <td>318</td>\n",
       "      <td>97999</td>\n",
       "    </tr>\n",
       "    <tr>\n",
       "      <th>1</th>\n",
       "      <td>356</td>\n",
       "      <td>97040</td>\n",
       "    </tr>\n",
       "    <tr>\n",
       "      <th>2</th>\n",
       "      <td>296</td>\n",
       "      <td>92406</td>\n",
       "    </tr>\n",
       "    <tr>\n",
       "      <th>3</th>\n",
       "      <td>593</td>\n",
       "      <td>87899</td>\n",
       "    </tr>\n",
       "    <tr>\n",
       "      <th>4</th>\n",
       "      <td>2571</td>\n",
       "      <td>84545</td>\n",
       "    </tr>\n",
       "    <tr>\n",
       "      <th>5</th>\n",
       "      <td>260</td>\n",
       "      <td>81815</td>\n",
       "    </tr>\n",
       "    <tr>\n",
       "      <th>6</th>\n",
       "      <td>480</td>\n",
       "      <td>76451</td>\n",
       "    </tr>\n",
       "    <tr>\n",
       "      <th>7</th>\n",
       "      <td>527</td>\n",
       "      <td>71516</td>\n",
       "    </tr>\n",
       "    <tr>\n",
       "      <th>8</th>\n",
       "      <td>110</td>\n",
       "      <td>68803</td>\n",
       "    </tr>\n",
       "    <tr>\n",
       "      <th>9</th>\n",
       "      <td>1</td>\n",
       "      <td>68469</td>\n",
       "    </tr>\n",
       "  </tbody>\n",
       "</table>\n",
       "</div>"
      ],
      "text/plain": [
       "   movieId  n_count\n",
       "0      318    97999\n",
       "1      356    97040\n",
       "2      296    92406\n",
       "3      593    87899\n",
       "4     2571    84545\n",
       "5      260    81815\n",
       "6      480    76451\n",
       "7      527    71516\n",
       "8      110    68803\n",
       "9        1    68469"
      ]
     },
     "execution_count": 4,
     "metadata": {},
     "output_type": "execute_result"
    }
   ],
   "source": [
    "# Beräkna antalet satta betyg per film\n",
    "df_n_ratings = pd.DataFrame(df_ratings[\"movieId\"].value_counts()).reset_index()\n",
    "df_n_ratings.columns = [\"movieId\", \"n_count\"]\n",
    "df_n_ratings.head(10)"
   ]
  },
  {
   "cell_type": "markdown",
   "metadata": {},
   "source": [
    "#### c) Beräkna den genomsnittliga ratingen för dessa 10 filmerna med flest ratings."
   ]
  },
  {
   "cell_type": "code",
   "execution_count": 5,
   "metadata": {},
   "outputs": [
    {
     "data": {
      "text/html": [
       "<div>\n",
       "<style scoped>\n",
       "    .dataframe tbody tr th:only-of-type {\n",
       "        vertical-align: middle;\n",
       "    }\n",
       "\n",
       "    .dataframe tbody tr th {\n",
       "        vertical-align: top;\n",
       "    }\n",
       "\n",
       "    .dataframe thead th {\n",
       "        text-align: right;\n",
       "    }\n",
       "</style>\n",
       "<table border=\"1\" class=\"dataframe\">\n",
       "  <thead>\n",
       "    <tr style=\"text-align: right;\">\n",
       "      <th></th>\n",
       "      <th>movieId</th>\n",
       "      <th>n_count</th>\n",
       "      <th>title</th>\n",
       "      <th>rating</th>\n",
       "    </tr>\n",
       "  </thead>\n",
       "  <tbody>\n",
       "    <tr>\n",
       "      <th>0</th>\n",
       "      <td>318</td>\n",
       "      <td>97999</td>\n",
       "      <td>Shawshank Redemption, The (1994)</td>\n",
       "      <td>4.424188</td>\n",
       "    </tr>\n",
       "    <tr>\n",
       "      <th>1</th>\n",
       "      <td>356</td>\n",
       "      <td>97040</td>\n",
       "      <td>Forrest Gump (1994)</td>\n",
       "      <td>4.056585</td>\n",
       "    </tr>\n",
       "    <tr>\n",
       "      <th>2</th>\n",
       "      <td>296</td>\n",
       "      <td>92406</td>\n",
       "      <td>Pulp Fiction (1994)</td>\n",
       "      <td>4.173971</td>\n",
       "    </tr>\n",
       "    <tr>\n",
       "      <th>3</th>\n",
       "      <td>593</td>\n",
       "      <td>87899</td>\n",
       "      <td>Silence of the Lambs, The (1991)</td>\n",
       "      <td>4.151412</td>\n",
       "    </tr>\n",
       "    <tr>\n",
       "      <th>4</th>\n",
       "      <td>2571</td>\n",
       "      <td>84545</td>\n",
       "      <td>Matrix, The (1999)</td>\n",
       "      <td>4.149695</td>\n",
       "    </tr>\n",
       "    <tr>\n",
       "      <th>5</th>\n",
       "      <td>260</td>\n",
       "      <td>81815</td>\n",
       "      <td>Star Wars: Episode IV - A New Hope (1977)</td>\n",
       "      <td>4.120455</td>\n",
       "    </tr>\n",
       "    <tr>\n",
       "      <th>6</th>\n",
       "      <td>480</td>\n",
       "      <td>76451</td>\n",
       "      <td>Jurassic Park (1993)</td>\n",
       "      <td>3.665034</td>\n",
       "    </tr>\n",
       "    <tr>\n",
       "      <th>7</th>\n",
       "      <td>527</td>\n",
       "      <td>71516</td>\n",
       "      <td>Schindler's List (1993)</td>\n",
       "      <td>4.257502</td>\n",
       "    </tr>\n",
       "    <tr>\n",
       "      <th>8</th>\n",
       "      <td>110</td>\n",
       "      <td>68803</td>\n",
       "      <td>Braveheart (1995)</td>\n",
       "      <td>4.008481</td>\n",
       "    </tr>\n",
       "    <tr>\n",
       "      <th>9</th>\n",
       "      <td>1</td>\n",
       "      <td>68469</td>\n",
       "      <td>Toy Story (1995)</td>\n",
       "      <td>3.886649</td>\n",
       "    </tr>\n",
       "  </tbody>\n",
       "</table>\n",
       "</div>"
      ],
      "text/plain": [
       "   movieId  n_count                                      title    rating\n",
       "0      318    97999           Shawshank Redemption, The (1994)  4.424188\n",
       "1      356    97040                        Forrest Gump (1994)  4.056585\n",
       "2      296    92406                        Pulp Fiction (1994)  4.173971\n",
       "3      593    87899           Silence of the Lambs, The (1991)  4.151412\n",
       "4     2571    84545                         Matrix, The (1999)  4.149695\n",
       "5      260    81815  Star Wars: Episode IV - A New Hope (1977)  4.120455\n",
       "6      480    76451                       Jurassic Park (1993)  3.665034\n",
       "7      527    71516                    Schindler's List (1993)  4.257502\n",
       "8      110    68803                          Braveheart (1995)  4.008481\n",
       "9        1    68469                           Toy Story (1995)  3.886649"
      ]
     },
     "execution_count": 5,
     "metadata": {},
     "output_type": "execute_result"
    }
   ],
   "source": [
    "# Tio filmerna med flest satta betyg\n",
    "df_top_ten = pd.merge(df_n_ratings.head(10), df_movies, on=\"movieId\")\n",
    "\n",
    "top_ten_ratings = [(df_ratings.query(\"movieId == @id\")[\"rating\"].sum() / n ) for id, n in zip(df_top_ten[\"movieId\"], df_top_ten[\"n_count\"])]\n",
    "\n",
    "df_top_ten[\"rating\"] = top_ten_ratings\n",
    "\n",
    "df_top_ten"
   ]
  },
  {
   "cell_type": "markdown",
   "metadata": {},
   "source": [
    "#### d) Gör en plot över årtal och antalet filmer representerade i datasettet.\n"
   ]
  },
  {
   "cell_type": "code",
   "execution_count": 6,
   "metadata": {},
   "outputs": [
    {
     "data": {
      "text/html": [
       "<div>\n",
       "<style scoped>\n",
       "    .dataframe tbody tr th:only-of-type {\n",
       "        vertical-align: middle;\n",
       "    }\n",
       "\n",
       "    .dataframe tbody tr th {\n",
       "        vertical-align: top;\n",
       "    }\n",
       "\n",
       "    .dataframe thead th {\n",
       "        text-align: right;\n",
       "    }\n",
       "</style>\n",
       "<table border=\"1\" class=\"dataframe\">\n",
       "  <thead>\n",
       "    <tr style=\"text-align: right;\">\n",
       "      <th></th>\n",
       "      <th>movieId</th>\n",
       "      <th>title</th>\n",
       "      <th>year</th>\n",
       "    </tr>\n",
       "  </thead>\n",
       "  <tbody>\n",
       "    <tr>\n",
       "      <th>0</th>\n",
       "      <td>1</td>\n",
       "      <td>Toy Story (1995)</td>\n",
       "      <td>1995</td>\n",
       "    </tr>\n",
       "    <tr>\n",
       "      <th>1</th>\n",
       "      <td>2</td>\n",
       "      <td>Jumanji (1995)</td>\n",
       "      <td>1995</td>\n",
       "    </tr>\n",
       "    <tr>\n",
       "      <th>2</th>\n",
       "      <td>3</td>\n",
       "      <td>Grumpier Old Men (1995)</td>\n",
       "      <td>1995</td>\n",
       "    </tr>\n",
       "    <tr>\n",
       "      <th>3</th>\n",
       "      <td>4</td>\n",
       "      <td>Waiting to Exhale (1995)</td>\n",
       "      <td>1995</td>\n",
       "    </tr>\n",
       "    <tr>\n",
       "      <th>4</th>\n",
       "      <td>5</td>\n",
       "      <td>Father of the Bride Part II (1995)</td>\n",
       "      <td>1995</td>\n",
       "    </tr>\n",
       "    <tr>\n",
       "      <th>...</th>\n",
       "      <td>...</td>\n",
       "      <td>...</td>\n",
       "      <td>...</td>\n",
       "    </tr>\n",
       "    <tr>\n",
       "      <th>58093</th>\n",
       "      <td>193876</td>\n",
       "      <td>The Great Glinka (1946)</td>\n",
       "      <td>1946</td>\n",
       "    </tr>\n",
       "    <tr>\n",
       "      <th>58094</th>\n",
       "      <td>193878</td>\n",
       "      <td>Les tribulations d'une caissière (2011)</td>\n",
       "      <td>2011</td>\n",
       "    </tr>\n",
       "    <tr>\n",
       "      <th>58095</th>\n",
       "      <td>193880</td>\n",
       "      <td>Her Name Was Mumu (2016)</td>\n",
       "      <td>2016</td>\n",
       "    </tr>\n",
       "    <tr>\n",
       "      <th>58096</th>\n",
       "      <td>193882</td>\n",
       "      <td>Flora (2017)</td>\n",
       "      <td>2017</td>\n",
       "    </tr>\n",
       "    <tr>\n",
       "      <th>58097</th>\n",
       "      <td>193886</td>\n",
       "      <td>Leal (2018)</td>\n",
       "      <td>2018</td>\n",
       "    </tr>\n",
       "  </tbody>\n",
       "</table>\n",
       "<p>58098 rows × 3 columns</p>\n",
       "</div>"
      ],
      "text/plain": [
       "       movieId                                    title  year\n",
       "0            1                         Toy Story (1995)  1995\n",
       "1            2                           Jumanji (1995)  1995\n",
       "2            3                  Grumpier Old Men (1995)  1995\n",
       "3            4                 Waiting to Exhale (1995)  1995\n",
       "4            5       Father of the Bride Part II (1995)  1995\n",
       "...        ...                                      ...   ...\n",
       "58093   193876                  The Great Glinka (1946)  1946\n",
       "58094   193878  Les tribulations d'une caissière (2011)  2011\n",
       "58095   193880                 Her Name Was Mumu (2016)  2016\n",
       "58096   193882                             Flora (2017)  2017\n",
       "58097   193886                              Leal (2018)  2018\n",
       "\n",
       "[58098 rows x 3 columns]"
      ]
     },
     "execution_count": 6,
     "metadata": {},
     "output_type": "execute_result"
    }
   ],
   "source": [
    "df_movies[\"year\"] = df_movies[\"title\"].str.extract('(\\(\\d{4}\\))')[0].str[-5:-1].astype(\"Int16\")\n",
    "df_movies"
   ]
  },
  {
   "cell_type": "code",
   "execution_count": 7,
   "metadata": {},
   "outputs": [
    {
     "data": {
      "text/plain": [
       "145"
      ]
     },
     "execution_count": 7,
     "metadata": {},
     "output_type": "execute_result"
    }
   ],
   "source": [
    "years_describe = df_movies[\"year\"].describe()\n",
    "bins = int(years_describe[7]-years_describe[3]+1)\n",
    "bins"
   ]
  },
  {
   "cell_type": "code",
   "execution_count": 8,
   "metadata": {},
   "outputs": [
    {
     "data": {
      "image/png": "[encoded data removed]",
      "text/plain": [
       "<Figure size 720x720 with 1 Axes>"
      ]
     },
     "metadata": {
      "needs_background": "light"
     },
     "output_type": "display_data"
    }
   ],
   "source": [
    "plt.figure(figsize = [10, 10])\n",
    "plt.hist(x = df_movies[\"year\"].dropna(), bins=bins)\n",
    "\n",
    "plt.xticks(rotation=90);"
   ]
  },
  {
   "cell_type": "markdown",
   "metadata": {},
   "source": [
    "##### e) Gör en plot över antalet ratings mot movieId.\n"
   ]
  },
  {
   "cell_type": "code",
   "execution_count": 9,
   "metadata": {},
   "outputs": [
    {
     "data": {
      "image/png": "[encoded data removed]",
      "text/plain": [
       "<Figure size 720x720 with 1 Axes>"
      ]
     },
     "metadata": {
      "needs_background": "light"
     },
     "output_type": "display_data"
    }
   ],
   "source": [
    "plt.figure(figsize = [10, 10])\n",
    "plt.scatter(\"movieId\", \"n_count\", data= df_n_ratings);"
   ]
  },
  {
   "cell_type": "markdown",
   "metadata": {},
   "source": [
    "####  Beräkna genomsnittliga ratings för de top 10 filmerna med flest ratings. Gör ett stapeldiagram över dessa."
   ]
  },
  {
   "cell_type": "code",
   "execution_count": 10,
   "metadata": {},
   "outputs": [
    {
     "data": {
      "text/plain": [
       "Text(0.5, 0, 'Rating')"
      ]
     },
     "execution_count": 10,
     "metadata": {},
     "output_type": "execute_result"
    },
    {
     "data": {
      "image/png": "[encoded data removed]",
      "text/plain": [
       "<Figure size 432x288 with 1 Axes>"
      ]
     },
     "metadata": {
      "needs_background": "light"
     },
     "output_type": "display_data"
    }
   ],
   "source": [
    "plt.barh(df_top_ten[\"title\"], df_top_ten[\"rating\"] )\n",
    "\n",
    "plt.xlabel(\"Rating\")"
   ]
  },
  {
   "cell_type": "markdown",
   "metadata": {},
   "source": [
    "### 1.2 Skapa gles matris\n",
    "##### Rensa data\n",
    "\n",
    "- Jag behöver inte rensa några data för att kunna köra programmet utan bara för att förbättra modellen.\n",
    "- Tänkte ta bort filmer som fått få totalt antal röster. Om de fått få röster kan de inte ge så mycket information om andra filmer. Men då kan man ju inte söka på de filmerna och det var ju trist. Så jag behöll dem. De får ändå ganska bra resultat.\n",
    "- Däremot tar jag bort de användare som röstat på väldigt få filmer då de inte tillför så mycket information mellan filmer. Vad som är en lämplig gräns skulle behöva provas ut."
   ]
  },
  {
   "cell_type": "code",
   "execution_count": 119,
   "metadata": {},
   "outputs": [
    {
     "data": {
      "text/plain": [
       "(27678678, 3)"
      ]
     },
     "execution_count": 119,
     "metadata": {},
     "output_type": "execute_result"
    }
   ],
   "source": [
    "# Ta bort användare som gett få röster\n",
    "user_n_of_ratings = df_ratings.userId.value_counts()\n",
    "users_to_ceep = user_n_of_ratings[user_n_of_ratings > 5].index\n",
    "df_ratings[df_ratings[ \"userId\"].isin(users_to_ceep)]\n",
    "df_ratings_cleaned = df_ratings[df_ratings[ \"userId\"].isin(users_to_ceep)]\n",
    "df_ratings_cleaned.shape"
   ]
  },
  {
   "cell_type": "markdown",
   "metadata": {},
   "source": [
    "##### Skapa den glesa matrisen\n",
    "Hur han gjorde det här i videon var ju helt 🤯 Indexen blev ju 🤪🤦\n",
    "\n",
    "På det här sättet blir \n",
    "- raderna == movieId \n",
    "- kolonnerna == userId\n",
    "\n",
    "Samt att det går att köra utan att rensa några data."
   ]
  },
  {
   "cell_type": "code",
   "execution_count": 120,
   "metadata": {},
   "outputs": [
    {
     "data": {
      "text/plain": [
       "(scipy.sparse._csr.csr_matrix, (193887, 283229))"
      ]
     },
     "execution_count": 120,
     "metadata": {},
     "output_type": "execute_result"
    }
   ],
   "source": [
    "mat_movies_users = csr_matrix((df_ratings_cleaned.rating, (df_ratings_cleaned.movieId, df_ratings_cleaned.userId))) \n",
    "\n",
    "type(mat_movies_users), mat_movies_users.shape"
   ]
  },
  {
   "cell_type": "markdown",
   "metadata": {},
   "source": [
    "### 1.3 Rekommenderarsystemet\n",
    "\n",
    " Det han gör i videon är helt felaktigt och han söker inte på den film han matar in, pga felaktiga index. \n",
    "\n",
    " Den här modellen ger ganska bra rekomendationer ändå. Se några exempel nedan. \n",
    " - \"Live and Let Die\" gav bara andra Bond-filmer som ligger nära i tid till exempel\n",
    "\n",
    "Hur fungerar det:\n",
    "- Först läser man in och rensar datan.\n",
    "- Sen skapar man en glesmatris med filmtitlar mot användare.\n",
    "- Matrisen annvänds för att träna en närmast grannar-modell.\n",
    "\n",
    "- Användaren anger en filmtitel.\n",
    "- Med fuzzywuzzy hittar man en matchande filmtitel i datan och tar fram movieId\n",
    "- med k närmast grannar hittar man de n filmer som ligger närmast i vinkel mot den angivna filmen\n",
    "    - Det som knn gör är att den tar filmen som en vektor med alla användare som dimensioner och respektive betyg som värden.\n",
    "    - Sen jämför den denna vektor med alla andra filmvektorer och ser vilka som har minst vinkel mot angivna sökfilmen.\n",
    "    - Dessa har alltså fått liknande betyg av samma användare som sökfilmen. Så kanske är de då liknande.\n",
    "    - Detta ger movieId för de n bästa matchningarna \n",
    "   \n",
    "- Med movieId tas namnet på filmerna fram och skrivs ut.\n"
   ]
  },
  {
   "cell_type": "code",
   "execution_count": 121,
   "metadata": {},
   "outputs": [],
   "source": [
    "# Rekomenderare\n",
    "def recommender(movie_name, data, model, n_recomendations):\n",
    "    # Plockar fram index i df_movies för den film som best matchar söktermen\n",
    "    idx_m = process.extractOne(movie_name, df_movies.title)[2]\n",
    "    # Ta fram movieid för filmen med det indexet\n",
    "    movieid = df_movies.loc[idx_m,\"movieId\"]\n",
    " \n",
    "    print(\"Movie Selected: \", df_movies[\"title\"][idx_m])\n",
    "    print(\"Searching for recommendations ... \")\n",
    "    \n",
    "    # Välj de filmer med minst vinkel till den angivna filmen\n",
    "    _, indices = model.kneighbors(data[movieid], n_neighbors=n_recomendations+1)\n",
    "    \n",
    "    # Skriv ut de föreslagna filmerna (utelämna den första som givetvis är den angivna)\n",
    "    for i in indices[0][1:]:\n",
    "        print(df_movies.query(\"movieId == @i\").iloc[0][\"title\"])\n",
    "    "
   ]
  },
  {
   "cell_type": "code",
   "execution_count": 122,
   "metadata": {},
   "outputs": [
    {
     "data": {
      "text/plain": [
       "NearestNeighbors(algorithm='brute', metric='cosine', n_neighbors=20)"
      ]
     },
     "execution_count": 122,
     "metadata": {},
     "output_type": "execute_result"
    }
   ],
   "source": [
    "# Modell\n",
    "model_knn = NearestNeighbors(metric=\"cosine\", algorithm=\"brute\", n_neighbors=20) \n",
    "model_knn.fit(mat_movies_users)                                                 "
   ]
  },
  {
   "cell_type": "code",
   "execution_count": 131,
   "metadata": {},
   "outputs": [
    {
     "name": "stdout",
     "output_type": "stream",
     "text": [
      "Movie Selected:  North by Northwest (1959)\n",
      "Searching for recommendations ... \n",
      "Rear Window (1954)\n",
      "Vertigo (1958)\n",
      "Citizen Kane (1941)\n",
      "Casablanca (1942)\n",
      "Chinatown (1974)\n"
     ]
    }
   ],
   "source": [
    "recommender(\"North by Northwest\", mat_movies_users, model_knn, 5)"
   ]
  },
  {
   "cell_type": "code",
   "execution_count": null,
   "metadata": {},
   "outputs": [
    {
     "name": "stdout",
     "output_type": "stream",
     "text": [
      "Movie Selected:  Escape from Alcatraz (1979)\n",
      "Searching for recommendations ... \n",
      "Dirty Harry (1971)\n",
      "Papillon (1973)\n",
      "For a Few Dollars More (Per qualche dollaro in più) (1965)\n",
      "Bullitt (1968)\n",
      "Scarface (1983)\n"
     ]
    }
   ],
   "source": [
    "recommender(\"Escape from Alcatraz\", mat_movies_users, model_knn, 5)"
   ]
  },
  {
   "cell_type": "code",
   "execution_count": 124,
   "metadata": {},
   "outputs": [
    {
     "name": "stdout",
     "output_type": "stream",
     "text": [
      "Movie Selected:  Live and Let Die (1973)\n",
      "Searching for recommendations ... \n",
      "For Your Eyes Only (1981)\n",
      "Thunderball (1965)\n",
      "Man with the Golden Gun, The (1974)\n",
      "Spy Who Loved Me, The (1977)\n",
      "Diamonds Are Forever (1971)\n"
     ]
    }
   ],
   "source": [
    "recommender(\"Live and let die\", mat_movies_users, model_knn, 5)"
   ]
  },
  {
   "cell_type": "code",
   "execution_count": 125,
   "metadata": {},
   "outputs": [
    {
     "name": "stdout",
     "output_type": "stream",
     "text": [
      "Movie Selected:  Gaslight (1944)\n",
      "Searching for recommendations ... \n",
      "Spellbound (1945)\n",
      "Suspicion (1941)\n",
      "Laura (1944)\n",
      "Rebecca (1940)\n",
      "Notorious (1946)\n"
     ]
    }
   ],
   "source": [
    "recommender(\"Gaslight\", mat_movies_users, model_knn, 5)"
   ]
  },
  {
   "cell_type": "code",
   "execution_count": 127,
   "metadata": {},
   "outputs": [
    {
     "name": "stdout",
     "output_type": "stream",
     "text": [
      "Movie Selected:  Terminator 2: Judgment Day (1991)\n",
      "Searching for recommendations ... \n",
      "Jurassic Park (1993)\n",
      "Terminator, The (1984)\n",
      "Speed (1994)\n",
      "Fugitive, The (1993)\n",
      "Braveheart (1995)\n"
     ]
    }
   ],
   "source": [
    "recommender(\"Terminator 2\", mat_movies_users, model_knn, 5)"
   ]
  },
  {
   "cell_type": "code",
   "execution_count": 128,
   "metadata": {},
   "outputs": [
    {
     "name": "stdout",
     "output_type": "stream",
     "text": [
      "Movie Selected:  American Graffiti (1973)\n",
      "Searching for recommendations ... \n",
      "Animal House (1978)\n",
      "Close Encounters of the Third Kind (1977)\n",
      "Blazing Saddles (1974)\n",
      "Bull Durham (1988)\n",
      "Dog Day Afternoon (1975)\n"
     ]
    }
   ],
   "source": [
    "recommender(\"American Graffiti\", mat_movies_users, model_knn, 5)"
   ]
  }
 ],
 "metadata": {
  "interpreter": {
   "hash": "894ba44cbc63b2d2e4e7c78718d307670d4b9c5230ecde87c53510ac583795c8"
  },
  "kernelspec": {
   "display_name": "Python 3.9.7 ('Maskininl-rning-r3O2cMsS')",
   "language": "python",
   "name": "python3"
  },
  "language_info": {
   "codemirror_mode": {
    "name": "ipython",
    "version": 3
   },
   "file_extension": ".py",
   "mimetype": "text/x-python",
   "name": "python",
   "nbconvert_exporter": "python",
   "pygments_lexer": "ipython3",
   "version": "3.9.7"
  },
  "orig_nbformat": 4
 },
 "nbformat": 4,
 "nbformat_minor": 2
}
