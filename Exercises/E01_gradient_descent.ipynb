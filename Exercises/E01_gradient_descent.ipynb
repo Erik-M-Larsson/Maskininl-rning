{
 "cells": [
  {
   "cell_type": "markdown",
   "metadata": {},
   "source": [
    "# Gradient descent exercises\n"
   ]
  },
  {
   "cell_type": "code",
   "execution_count": 283,
   "metadata": {},
   "outputs": [],
   "source": [
    "import numpy as np\n",
    "import matplotlib.pyplot as plt"
   ]
  },
  {
   "cell_type": "markdown",
   "metadata": {},
   "source": [
    "## 0. Simulate dataset (*)\n"
   ]
  },
  {
   "cell_type": "code",
   "execution_count": 284,
   "metadata": {},
   "outputs": [
    {
     "data": {
      "text/plain": [
       "array([[1.        , 0.37454012, 0.95071431],\n",
       "       [1.        , 0.73199394, 0.59865848],\n",
       "       [1.        , 0.15601864, 0.15599452],\n",
       "       ...,\n",
       "       [1.        , 0.75137509, 0.65695516],\n",
       "       [1.        , 0.95661462, 0.06895802],\n",
       "       [1.        , 0.05705472, 0.28218707]])"
      ]
     },
     "execution_count": 284,
     "metadata": {},
     "output_type": "execute_result"
    }
   ],
   "source": [
    "np.random.seed(42)\n",
    "\n",
    "X =np.c_[np.ones((1000, 1)), np.random.rand(1000, 2)]\n",
    "\n",
    "X"
   ]
  },
  {
   "cell_type": "code",
   "execution_count": 400,
   "metadata": {},
   "outputs": [
    {
     "data": {
      "text/plain": [
       "(1000, 1)"
      ]
     },
     "execution_count": 400,
     "metadata": {},
     "output_type": "execute_result"
    }
   ],
   "source": [
    "ϵ = np.random.normal(loc=0, scale=1, size=(X.shape[0],1))\n",
    "y = ([3, 3, 5] @ X.T).reshape(-1,1)+ ϵ\n",
    "y.shape\n"
   ]
  },
  {
   "cell_type": "markdown",
   "metadata": {},
   "source": [
    "## 1. Gradient descent - learning rate (*)"
   ]
  },
  {
   "cell_type": "code",
   "execution_count": 414,
   "metadata": {},
   "outputs": [
    {
     "data": {
      "text/plain": [
       "array([[3.13382485],\n",
       "       [2.80926487],\n",
       "       [4.92180749]])"
      ]
     },
     "execution_count": 414,
     "metadata": {},
     "output_type": "execute_result"
    }
   ],
   "source": [
    "η = 0.1\n",
    "epochs = 500\n",
    "θ = np.random.randn(X.shape[1],1)\n",
    "#print(θ)\n",
    "m = len(X) \n",
    "\n",
    "θ_lista = []\n",
    "\n",
    "for epoch in range(epochs):\n",
    "    \n",
    "    θ -= η * 2/m * X.T @ (X @ θ - y) \n",
    "    if not epoch % 5:\n",
    "         θ_lista.append(θ.reshape(-1).copy())\n",
    "\n",
    "#len(θ_lista)\n",
    "θ"
   ]
  },
  {
   "cell_type": "code",
   "execution_count": 415,
   "metadata": {},
   "outputs": [
    {
     "data": {
      "image/png": "[encoded data removed]",
      "text/plain": [
       "<Figure size 432x288 with 1 Axes>"
      ]
     },
     "metadata": {
      "needs_background": "light"
     },
     "output_type": "display_data"
    }
   ],
   "source": [
    "θ_array =np.array(θ_lista)\n",
    "#θ_array.reshape(-1, θ_array.shape[1]).shape\n",
    "θ_array.shape\n",
    "ax = plt.axes() \n",
    "ax.plot(np.linspace(0, epochs-5, epochs//5 ), θ_array, label = [\"θ_0\" ,\"θ_1\", \"θ_2\"])\n",
    "\n",
    "ax.legend();"
   ]
  },
  {
   "cell_type": "markdown",
   "metadata": {},
   "source": [
    "## 2. Stochastic Gradient Descent - learning rate (**)"
   ]
  },
  {
   "cell_type": "code",
   "execution_count": 429,
   "metadata": {},
   "outputs": [
    {
     "data": {
      "text/plain": [
       "array([[3.1336964 ],\n",
       "       [2.78263319],\n",
       "       [4.9298256 ]])"
      ]
     },
     "execution_count": 429,
     "metadata": {},
     "output_type": "execute_result"
    }
   ],
   "source": [
    "epochs = 100\n",
    "θ = np.random.randn(X.shape[1],1)\n",
    "#print(θ)\n",
    "m = len(X) \n",
    "t0, t1 = 5, 50\n",
    "θ_lista = []\n",
    "\n",
    "for epoch in range(epochs):\n",
    "    for i in range(m):\n",
    "        slump_index = np.random.randint(len(X))\n",
    "        x_i, y_i = X[slump_index:slump_index+1], y[slump_index:slump_index+1]\n",
    "\n",
    "        η = t0/(epoch*m + i + t1)\n",
    "\n",
    "        θ -= η * 2 * x_i.T @ (x_i @ θ - y_i) \n",
    "    if not epoch % 5:\n",
    "         θ_lista.append(θ.reshape(-1).copy())\n",
    "\n",
    "#len(θ_lista)\n",
    "θ\n",
    "\n"
   ]
  },
  {
   "cell_type": "code",
   "execution_count": 430,
   "metadata": {},
   "outputs": [
    {
     "data": {
      "image/png": "[encoded data removed]",
      "text/plain": [
       "<Figure size 432x288 with 1 Axes>"
      ]
     },
     "metadata": {
      "needs_background": "light"
     },
     "output_type": "display_data"
    }
   ],
   "source": [
    "θ_array =np.array(θ_lista)\n",
    "#θ_array.reshape(-1, θ_array.shape[1]).shape\n",
    "θ_array.shape\n",
    "ax = plt.axes() \n",
    "ax.plot(np.linspace(0, epochs-5, epochs//5 ), θ_array, label = [\"θ_0\" ,\"θ_1\", \"θ_2\"])\n",
    "\n",
    "ax.legend();"
   ]
  },
  {
   "cell_type": "code",
   "execution_count": null,
   "metadata": {},
   "outputs": [],
   "source": []
  }
 ],
 "metadata": {
  "interpreter": {
   "hash": "894ba44cbc63b2d2e4e7c78718d307670d4b9c5230ecde87c53510ac583795c8"
  },
  "kernelspec": {
   "display_name": "Python 3.9.7 ('Maskininl-rning-r3O2cMsS')",
   "language": "python",
   "name": "python3"
  },
  "language_info": {
   "codemirror_mode": {
    "name": "ipython",
    "version": 3
   },
   "file_extension": ".py",
   "mimetype": "text/x-python",
   "name": "python",
   "nbconvert_exporter": "python",
   "pygments_lexer": "ipython3",
   "version": "3.9.7"
  },
  "orig_nbformat": 4
 },
 "nbformat": 4,
 "nbformat_minor": 2
}
